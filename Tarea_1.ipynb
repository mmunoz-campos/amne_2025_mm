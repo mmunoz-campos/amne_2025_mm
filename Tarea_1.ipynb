{
 "cells": [
  {
   "cell_type": "markdown",
   "metadata": {
    "id": "4Ra8eI01vFUk"
   },
   "source": [
    "EAE3709 APLICACIONES DE  MACHINE LEARNING EN ECONOMÍA <br>\n",
    "1ER SEMESTRE 2025 <br>\n",
    "INSTITUTO DE ECONOMÍA <br>\n",
    "PONTIFICIA UNIVERSIDAD CATÓLICA DE CHILE\n",
    "\n",
    "\n",
    "# **TAREA 1**\n",
    "\n",
    "\n",
    "---\n",
    "\n",
    "\n",
    "Profesor:\n",
    "- Joaquín Pérez Lapillo\n",
    "\n",
    "Ayudantes:\n",
    "\n",
    "- Luis García B.\n",
    "- Sebastián Hernández B.\n",
    "- Oscar Herrera G.\n"
   ]
  },
  {
   "cell_type": "markdown",
   "metadata": {},
   "source": [
    "**Complete sus datos:**\n",
    "\n",
    "- Nombre y apellido:\n",
    "  - `# Matias Munoz`\n",
    "- Usuario de GitHub (opcional):  `# mmunoz-campos`"
   ]
  },
  {
   "cell_type": "markdown",
   "metadata": {
    "id": "yqQBV0vWVQP6"
   },
   "source": [
    "\n",
    "\n",
    "\n",
    "## Instrucciones\n",
    "\n",
    "- Descargue el notebook y cárguelo en su Drive.\n",
    "- Todas las preguntas deben ser contestadas en su notebook.\n",
    "- Para que una pregunta esté correcta el código debe correr.\n",
    "- Si es necesario, realice comentarios breves en su código explicando lo que está realizando o sus resultados.\n",
    "- Una vez culminada su tarea, suba su notebook al buzón de tareas de Canvas.\n",
    "- La fecha y hora límite de esta tarea es el _**viernes 4 de abril a las 18:00 hrs**_.\n",
    "\n"
   ]
  },
  {
   "cell_type": "markdown",
   "metadata": {
    "id": "XBzO2w8EVm5c"
   },
   "source": [
    "### Distribución de puntaje\n",
    "\n",
    "\n",
    "| Pregunta                        | Puntaje |\n",
    "|--------------------------------|---------|\n",
    "| Pregunta 1.0                   |    1    |\n",
    "| Pregunta 1.1                   |    3    |\n",
    "| Pregunta 1.2                   |    3    |\n",
    "| Pregunta 1.3                   |    2    |\n",
    "| Pregunta 1.4                   |    2    |\n",
    "| Pregunta 1.5                   |    5    |\n",
    "| Pregunta 1.6                   |    2    |\n",
    "| Pregunta 1.7                   |    5    |\n",
    "| Pregunta 1.8                   |   7    |\n",
    "| Pregunta 1.9                   |   5    |\n",
    "| Pregunta 1.10                  |   5    |\n",
    "| Pregunta 1.11                  |   6    |\n",
    "| Pregunta 1.12                  |    2    |\n",
    "| Pregunta 1.13                  |    5    |\n",
    "| Pregunta 1.14                  |   10    |\n",
    "| Pregunta 1.15                  |    5    |\n",
    "| Pregunta 1.16                  |    5    |\n",
    "| Pregunta 2.0                   |    2    |\n",
    "| Pregunta 2.1                   |    5    |\n",
    "| Pregunta 2.2                   |    5    |\n",
    "| Pregunta 2.3                   |    5    |\n",
    "| Pregunta 2.4                   |    3    |\n",
    "| Pregunta 2.5                   |    3    |\n",
    "| Pregunta 2.6                   |    2    |\n",
    "| Pregunta 2.7                   |    2    |\n",
    "\n",
    "Total: 100 pts.\n"
   ]
  },
  {
   "cell_type": "markdown",
   "metadata": {
    "id": "Vk7iPtznVHVi"
   },
   "source": [
    "### Sobre el Bonus\n",
    "\n",
    "- La entrega, por defecto, es a través de Canvas. Sin embargo, puede escoger voluntariamente entregar la tarea en su GitHub personal.\n",
    "\n",
    "- Si usted realiza la entrega en GitHub antes de la **fecha y hora indicada**, entonces tendrá una bonificación de 0.3 en su nota final de tarea. Es decir, si usted obtuvo una nota de 6.5, pero entregó en su GitHub, entonces su calificación en esta tarea será de 6.8.\n",
    "\n",
    "- Si **además** de realizar la entrega a través de GitHub, usted logra crear `branches` (ramas) y realizar un `merge` entre ramas, entonces se le bonificará con 0.5 en su nota de tarea. Es decir, si usted obtuvo una nota de 6.5, pero entregó en su GitHub e hizo el trabajo de ramas, entonces su calificación en esta tarea será de 7.0.\n",
    "\n",
    "  - Se valora capacidad autodidacta.\n",
    "  - Sólo serán considerados los archivos contenidos en su rama principal a la fecha y hora indicada.\n",
    "\n"
   ]
  },
  {
   "cell_type": "markdown",
   "metadata": {
    "id": "jaq2e8c8vcYw"
   },
   "source": [
    "## Exploratory data analysis (EDA)"
   ]
  },
  {
   "cell_type": "markdown",
   "metadata": {
    "id": "cKQoWCh7voMY"
   },
   "source": [
    "Para esta tarea se utilizará como principal fuente de información un dataset con una serie de características económicas, demográficas y de desarrollo humano de distintos países a la fecha de 2007 (corte transversal). El dataset está disponible en el siguiente [Github](https://raw.githubusercontent.com/lfgarcia-1/EAE3709-1-2025/refs/heads/main/economic_dataset.csv).<br>\n",
    "\n",
    "Descripción del dataset:\n",
    "\n",
    "Variables:\n",
    "\n",
    "*   date: Fecha en la que se actualizó la data.\n",
    "*   Population, Area (sq. mi.) Pop. Density (per sq. mi.), Coastline (coast/area ratio), Net migration, Infant mortality (per 1000 births), GDP ($ per capita, Literacy (%), Phones (per 1000), Arable (%), Crops (%), Other (%), Climate, Birthrate, Deathrate, Agriculture, Industry, Service: Características del país.\n",
    "*   source: fuente de los datos.\n",
    "*   Region: Región (grupo de países).\n",
    "*   Country: País."
   ]
  },
  {
   "cell_type": "markdown",
   "metadata": {
    "id": "mOy5mXKWemrS"
   },
   "source": [
    "### Pregunta 1.0\n",
    "\n",
    "Importe las librerías que usará en su tarea."
   ]
  },
  {
   "cell_type": "code",
   "execution_count": 1,
   "metadata": {
    "id": "2Mp3_soge35K"
   },
   "outputs": [],
   "source": [
    "import pandas as pd\n",
    "import numpy as np\n",
    "import matplotlib.pyplot as plt\n",
    "import seaborn as sns\n",
    "import statsmodels.api as sm"
   ]
  },
  {
   "cell_type": "markdown",
   "metadata": {
    "id": "-6O0wui_GPKs"
   },
   "source": [
    "### Pregunta 1.1\n",
    "\n",
    "Importe el dataset como un DataFrame (df) directamente desde Github (es decir, no descargue el archivo manualmente). A lo largo de la tarea este df se denominará como `df`.\n"
   ]
  },
  {
   "cell_type": "code",
   "execution_count": 2,
   "metadata": {
    "id": "5khrY9a1GO51"
   },
   "outputs": [],
   "source": [
    "url = 'https://raw.githubusercontent.com/lfgarcia-1/EAE3709-1-2025/refs/heads/main/economic_dataset.csv'\n",
    "\n",
    "df = pd.read_csv(url)"
   ]
  },
  {
   "cell_type": "markdown",
   "metadata": {
    "id": "0ByEXODiGVIc"
   },
   "source": [
    "### Pregunta 1.2\n",
    "\n",
    "Utilice las funciones de Pandas `head()`, `tail()`, `info()` y la propiedad (o atributo) `.dtypes` para describir el `df`. Explique brevemente para qué sirve cada función."
   ]
  },
  {
   "cell_type": "markdown",
   "metadata": {},
   "source": [
    "*Respuesta:* El comando `head()` muestra las primeras observaciones de la base de datos, mientras que `tail()` muestra las últimas. El comando `info()` entrega un overview de la base, en particular una lista con todas las variables y el total de observaciones, mencionando para cada una su tipo (entero, string, booleano, etc), así como el número total de observaciones no nulas de cada una. Podemos también ver el tipo de cada variable con el comando `.dtypes`, que nos entrega la misma lista pero solo con esta información."
   ]
  },
  {
   "cell_type": "code",
   "execution_count": 3,
   "metadata": {
    "id": "Ml6rJ0rhUJtw"
   },
   "outputs": [
    {
     "data": {
      "text/html": [
       "<div>\n",
       "<style scoped>\n",
       "    .dataframe tbody tr th:only-of-type {\n",
       "        vertical-align: middle;\n",
       "    }\n",
       "\n",
       "    .dataframe tbody tr th {\n",
       "        vertical-align: top;\n",
       "    }\n",
       "\n",
       "    .dataframe thead th {\n",
       "        text-align: right;\n",
       "    }\n",
       "</style>\n",
       "<table border=\"1\" class=\"dataframe\">\n",
       "  <thead>\n",
       "    <tr style=\"text-align: right;\">\n",
       "      <th></th>\n",
       "      <th>date</th>\n",
       "      <th>source</th>\n",
       "      <th>Country</th>\n",
       "      <th>Region</th>\n",
       "      <th>Population</th>\n",
       "      <th>Area (sq. mi.)</th>\n",
       "      <th>Pop. Density (per sq. mi.)</th>\n",
       "      <th>Coastline (coast/area ratio)</th>\n",
       "      <th>Net migration</th>\n",
       "      <th>Infant mortality (per 1000 births)</th>\n",
       "      <th>...</th>\n",
       "      <th>Phones (per 1000)</th>\n",
       "      <th>Arable (%)</th>\n",
       "      <th>Crops (%)</th>\n",
       "      <th>Other (%)</th>\n",
       "      <th>Climate</th>\n",
       "      <th>Birthrate</th>\n",
       "      <th>Deathrate</th>\n",
       "      <th>Agriculture</th>\n",
       "      <th>Industry</th>\n",
       "      <th>Service</th>\n",
       "    </tr>\n",
       "  </thead>\n",
       "  <tbody>\n",
       "    <tr>\n",
       "      <th>0</th>\n",
       "      <td>2007-01-01</td>\n",
       "      <td>US Goverment</td>\n",
       "      <td>Afghanistan</td>\n",
       "      <td>ASIA (EX. NEAR EAST)</td>\n",
       "      <td>31056997</td>\n",
       "      <td>647500</td>\n",
       "      <td>48.0</td>\n",
       "      <td>0.00</td>\n",
       "      <td>23.06</td>\n",
       "      <td>163.07</td>\n",
       "      <td>...</td>\n",
       "      <td>3.2</td>\n",
       "      <td>12.13</td>\n",
       "      <td>0.22</td>\n",
       "      <td>87.65</td>\n",
       "      <td>1.0</td>\n",
       "      <td>46.60</td>\n",
       "      <td>20.34</td>\n",
       "      <td>0.380</td>\n",
       "      <td>0.240</td>\n",
       "      <td>0.380</td>\n",
       "    </tr>\n",
       "    <tr>\n",
       "      <th>1</th>\n",
       "      <td>2007-01-01</td>\n",
       "      <td>US Goverment</td>\n",
       "      <td>Albania</td>\n",
       "      <td>EASTERN EUROPE</td>\n",
       "      <td>3581655</td>\n",
       "      <td>28748</td>\n",
       "      <td>124.6</td>\n",
       "      <td>1.26</td>\n",
       "      <td>-4.93</td>\n",
       "      <td>21.52</td>\n",
       "      <td>...</td>\n",
       "      <td>71.2</td>\n",
       "      <td>21.09</td>\n",
       "      <td>4.42</td>\n",
       "      <td>74.49</td>\n",
       "      <td>3.0</td>\n",
       "      <td>15.11</td>\n",
       "      <td>5.22</td>\n",
       "      <td>0.232</td>\n",
       "      <td>0.188</td>\n",
       "      <td>0.579</td>\n",
       "    </tr>\n",
       "    <tr>\n",
       "      <th>2</th>\n",
       "      <td>2007-01-01</td>\n",
       "      <td>US Goverment</td>\n",
       "      <td>Algeria</td>\n",
       "      <td>NORTHERN AFRICA</td>\n",
       "      <td>32930091</td>\n",
       "      <td>2381740</td>\n",
       "      <td>13.8</td>\n",
       "      <td>0.04</td>\n",
       "      <td>-0.39</td>\n",
       "      <td>31.00</td>\n",
       "      <td>...</td>\n",
       "      <td>78.1</td>\n",
       "      <td>3.22</td>\n",
       "      <td>0.25</td>\n",
       "      <td>96.53</td>\n",
       "      <td>1.0</td>\n",
       "      <td>17.14</td>\n",
       "      <td>4.61</td>\n",
       "      <td>0.101</td>\n",
       "      <td>0.600</td>\n",
       "      <td>0.298</td>\n",
       "    </tr>\n",
       "    <tr>\n",
       "      <th>3</th>\n",
       "      <td>2007-01-01</td>\n",
       "      <td>US Goverment</td>\n",
       "      <td>American Samoa</td>\n",
       "      <td>OCEANIA</td>\n",
       "      <td>57794</td>\n",
       "      <td>199</td>\n",
       "      <td>290.4</td>\n",
       "      <td>58.29</td>\n",
       "      <td>-20.71</td>\n",
       "      <td>9.27</td>\n",
       "      <td>...</td>\n",
       "      <td>259.5</td>\n",
       "      <td>10.00</td>\n",
       "      <td>15.00</td>\n",
       "      <td>75.00</td>\n",
       "      <td>2.0</td>\n",
       "      <td>22.46</td>\n",
       "      <td>3.27</td>\n",
       "      <td>NaN</td>\n",
       "      <td>NaN</td>\n",
       "      <td>NaN</td>\n",
       "    </tr>\n",
       "    <tr>\n",
       "      <th>4</th>\n",
       "      <td>2007-01-01</td>\n",
       "      <td>US Goverment</td>\n",
       "      <td>Andorra</td>\n",
       "      <td>WESTERN EUROPE</td>\n",
       "      <td>71201</td>\n",
       "      <td>468</td>\n",
       "      <td>152.1</td>\n",
       "      <td>0.00</td>\n",
       "      <td>6.60</td>\n",
       "      <td>4.05</td>\n",
       "      <td>...</td>\n",
       "      <td>497.2</td>\n",
       "      <td>2.22</td>\n",
       "      <td>0.00</td>\n",
       "      <td>97.78</td>\n",
       "      <td>3.0</td>\n",
       "      <td>8.71</td>\n",
       "      <td>6.25</td>\n",
       "      <td>NaN</td>\n",
       "      <td>NaN</td>\n",
       "      <td>NaN</td>\n",
       "    </tr>\n",
       "  </tbody>\n",
       "</table>\n",
       "<p>5 rows × 22 columns</p>\n",
       "</div>"
      ],
      "text/plain": [
       "         date        source          Country  \\\n",
       "0  2007-01-01  US Goverment     Afghanistan    \n",
       "1  2007-01-01  US Goverment         Albania    \n",
       "2  2007-01-01  US Goverment         Algeria    \n",
       "3  2007-01-01  US Goverment  American Samoa    \n",
       "4  2007-01-01  US Goverment         Andorra    \n",
       "\n",
       "                                Region  Population  Area (sq. mi.)  \\\n",
       "0        ASIA (EX. NEAR EAST)             31056997          647500   \n",
       "1  EASTERN EUROPE                          3581655           28748   \n",
       "2  NORTHERN AFRICA                        32930091         2381740   \n",
       "3  OCEANIA                                   57794             199   \n",
       "4  WESTERN EUROPE                            71201             468   \n",
       "\n",
       "   Pop. Density (per sq. mi.)  Coastline (coast/area ratio)  Net migration  \\\n",
       "0                        48.0                          0.00          23.06   \n",
       "1                       124.6                          1.26          -4.93   \n",
       "2                        13.8                          0.04          -0.39   \n",
       "3                       290.4                         58.29         -20.71   \n",
       "4                       152.1                          0.00           6.60   \n",
       "\n",
       "   Infant mortality (per 1000 births)  ...  Phones (per 1000)  Arable (%)  \\\n",
       "0                              163.07  ...                3.2       12.13   \n",
       "1                               21.52  ...               71.2       21.09   \n",
       "2                               31.00  ...               78.1        3.22   \n",
       "3                                9.27  ...              259.5       10.00   \n",
       "4                                4.05  ...              497.2        2.22   \n",
       "\n",
       "   Crops (%)  Other (%)  Climate  Birthrate  Deathrate  Agriculture  Industry  \\\n",
       "0       0.22      87.65      1.0      46.60      20.34        0.380     0.240   \n",
       "1       4.42      74.49      3.0      15.11       5.22        0.232     0.188   \n",
       "2       0.25      96.53      1.0      17.14       4.61        0.101     0.600   \n",
       "3      15.00      75.00      2.0      22.46       3.27          NaN       NaN   \n",
       "4       0.00      97.78      3.0       8.71       6.25          NaN       NaN   \n",
       "\n",
       "   Service  \n",
       "0    0.380  \n",
       "1    0.579  \n",
       "2    0.298  \n",
       "3      NaN  \n",
       "4      NaN  \n",
       "\n",
       "[5 rows x 22 columns]"
      ]
     },
     "execution_count": 3,
     "metadata": {},
     "output_type": "execute_result"
    }
   ],
   "source": [
    "df.head()"
   ]
  },
  {
   "cell_type": "code",
   "execution_count": 4,
   "metadata": {
    "id": "VsjP1iBYUrsn"
   },
   "outputs": [
    {
     "data": {
      "text/html": [
       "<div>\n",
       "<style scoped>\n",
       "    .dataframe tbody tr th:only-of-type {\n",
       "        vertical-align: middle;\n",
       "    }\n",
       "\n",
       "    .dataframe tbody tr th {\n",
       "        vertical-align: top;\n",
       "    }\n",
       "\n",
       "    .dataframe thead th {\n",
       "        text-align: right;\n",
       "    }\n",
       "</style>\n",
       "<table border=\"1\" class=\"dataframe\">\n",
       "  <thead>\n",
       "    <tr style=\"text-align: right;\">\n",
       "      <th></th>\n",
       "      <th>date</th>\n",
       "      <th>source</th>\n",
       "      <th>Country</th>\n",
       "      <th>Region</th>\n",
       "      <th>Population</th>\n",
       "      <th>Area (sq. mi.)</th>\n",
       "      <th>Pop. Density (per sq. mi.)</th>\n",
       "      <th>Coastline (coast/area ratio)</th>\n",
       "      <th>Net migration</th>\n",
       "      <th>Infant mortality (per 1000 births)</th>\n",
       "      <th>...</th>\n",
       "      <th>Phones (per 1000)</th>\n",
       "      <th>Arable (%)</th>\n",
       "      <th>Crops (%)</th>\n",
       "      <th>Other (%)</th>\n",
       "      <th>Climate</th>\n",
       "      <th>Birthrate</th>\n",
       "      <th>Deathrate</th>\n",
       "      <th>Agriculture</th>\n",
       "      <th>Industry</th>\n",
       "      <th>Service</th>\n",
       "    </tr>\n",
       "  </thead>\n",
       "  <tbody>\n",
       "    <tr>\n",
       "      <th>222</th>\n",
       "      <td>2007-01-01</td>\n",
       "      <td>US Goverment</td>\n",
       "      <td>West Bank</td>\n",
       "      <td>NEAR EAST</td>\n",
       "      <td>2460492</td>\n",
       "      <td>5860</td>\n",
       "      <td>419.9</td>\n",
       "      <td>0.00</td>\n",
       "      <td>2.98</td>\n",
       "      <td>19.62</td>\n",
       "      <td>...</td>\n",
       "      <td>145.2</td>\n",
       "      <td>16.90</td>\n",
       "      <td>18.97</td>\n",
       "      <td>64.13</td>\n",
       "      <td>3.0</td>\n",
       "      <td>31.67</td>\n",
       "      <td>3.92</td>\n",
       "      <td>0.090</td>\n",
       "      <td>0.280</td>\n",
       "      <td>0.630</td>\n",
       "    </tr>\n",
       "    <tr>\n",
       "      <th>223</th>\n",
       "      <td>2007-01-01</td>\n",
       "      <td>US Goverment</td>\n",
       "      <td>Western Sahara</td>\n",
       "      <td>NORTHERN AFRICA</td>\n",
       "      <td>273008</td>\n",
       "      <td>266000</td>\n",
       "      <td>1.0</td>\n",
       "      <td>0.42</td>\n",
       "      <td>NaN</td>\n",
       "      <td>NaN</td>\n",
       "      <td>...</td>\n",
       "      <td>NaN</td>\n",
       "      <td>0.02</td>\n",
       "      <td>0.00</td>\n",
       "      <td>99.98</td>\n",
       "      <td>1.0</td>\n",
       "      <td>NaN</td>\n",
       "      <td>NaN</td>\n",
       "      <td>NaN</td>\n",
       "      <td>NaN</td>\n",
       "      <td>0.400</td>\n",
       "    </tr>\n",
       "    <tr>\n",
       "      <th>224</th>\n",
       "      <td>2007-01-01</td>\n",
       "      <td>US Goverment</td>\n",
       "      <td>Yemen</td>\n",
       "      <td>NEAR EAST</td>\n",
       "      <td>21456188</td>\n",
       "      <td>527970</td>\n",
       "      <td>40.6</td>\n",
       "      <td>0.36</td>\n",
       "      <td>0.00</td>\n",
       "      <td>61.50</td>\n",
       "      <td>...</td>\n",
       "      <td>37.2</td>\n",
       "      <td>2.78</td>\n",
       "      <td>0.24</td>\n",
       "      <td>96.98</td>\n",
       "      <td>1.0</td>\n",
       "      <td>42.89</td>\n",
       "      <td>8.30</td>\n",
       "      <td>0.135</td>\n",
       "      <td>0.472</td>\n",
       "      <td>0.393</td>\n",
       "    </tr>\n",
       "    <tr>\n",
       "      <th>225</th>\n",
       "      <td>2007-01-01</td>\n",
       "      <td>US Goverment</td>\n",
       "      <td>Zambia</td>\n",
       "      <td>SUB-SAHARAN AFRICA</td>\n",
       "      <td>11502010</td>\n",
       "      <td>752614</td>\n",
       "      <td>15.3</td>\n",
       "      <td>0.00</td>\n",
       "      <td>0.00</td>\n",
       "      <td>88.29</td>\n",
       "      <td>...</td>\n",
       "      <td>8.2</td>\n",
       "      <td>7.08</td>\n",
       "      <td>0.03</td>\n",
       "      <td>92.90</td>\n",
       "      <td>2.0</td>\n",
       "      <td>41.00</td>\n",
       "      <td>19.93</td>\n",
       "      <td>0.220</td>\n",
       "      <td>0.290</td>\n",
       "      <td>0.489</td>\n",
       "    </tr>\n",
       "    <tr>\n",
       "      <th>226</th>\n",
       "      <td>2007-01-01</td>\n",
       "      <td>US Goverment</td>\n",
       "      <td>Zimbabwe</td>\n",
       "      <td>SUB-SAHARAN AFRICA</td>\n",
       "      <td>12236805</td>\n",
       "      <td>390580</td>\n",
       "      <td>31.3</td>\n",
       "      <td>0.00</td>\n",
       "      <td>0.00</td>\n",
       "      <td>67.69</td>\n",
       "      <td>...</td>\n",
       "      <td>26.8</td>\n",
       "      <td>8.32</td>\n",
       "      <td>0.34</td>\n",
       "      <td>91.34</td>\n",
       "      <td>2.0</td>\n",
       "      <td>28.01</td>\n",
       "      <td>21.84</td>\n",
       "      <td>0.179</td>\n",
       "      <td>0.243</td>\n",
       "      <td>0.579</td>\n",
       "    </tr>\n",
       "  </tbody>\n",
       "</table>\n",
       "<p>5 rows × 22 columns</p>\n",
       "</div>"
      ],
      "text/plain": [
       "           date        source          Country  \\\n",
       "222  2007-01-01  US Goverment       West Bank    \n",
       "223  2007-01-01  US Goverment  Western Sahara    \n",
       "224  2007-01-01  US Goverment           Yemen    \n",
       "225  2007-01-01  US Goverment          Zambia    \n",
       "226  2007-01-01  US Goverment        Zimbabwe    \n",
       "\n",
       "                                  Region  Population  Area (sq. mi.)  \\\n",
       "222  NEAR EAST                               2460492            5860   \n",
       "223  NORTHERN AFRICA                          273008          266000   \n",
       "224  NEAR EAST                              21456188          527970   \n",
       "225  SUB-SAHARAN AFRICA                     11502010          752614   \n",
       "226  SUB-SAHARAN AFRICA                     12236805          390580   \n",
       "\n",
       "     Pop. Density (per sq. mi.)  Coastline (coast/area ratio)  Net migration  \\\n",
       "222                       419.9                          0.00           2.98   \n",
       "223                         1.0                          0.42            NaN   \n",
       "224                        40.6                          0.36           0.00   \n",
       "225                        15.3                          0.00           0.00   \n",
       "226                        31.3                          0.00           0.00   \n",
       "\n",
       "     Infant mortality (per 1000 births)  ...  Phones (per 1000)  Arable (%)  \\\n",
       "222                               19.62  ...              145.2       16.90   \n",
       "223                                 NaN  ...                NaN        0.02   \n",
       "224                               61.50  ...               37.2        2.78   \n",
       "225                               88.29  ...                8.2        7.08   \n",
       "226                               67.69  ...               26.8        8.32   \n",
       "\n",
       "     Crops (%)  Other (%)  Climate  Birthrate  Deathrate  Agriculture  \\\n",
       "222      18.97      64.13      3.0      31.67       3.92        0.090   \n",
       "223       0.00      99.98      1.0        NaN        NaN          NaN   \n",
       "224       0.24      96.98      1.0      42.89       8.30        0.135   \n",
       "225       0.03      92.90      2.0      41.00      19.93        0.220   \n",
       "226       0.34      91.34      2.0      28.01      21.84        0.179   \n",
       "\n",
       "     Industry  Service  \n",
       "222     0.280    0.630  \n",
       "223       NaN    0.400  \n",
       "224     0.472    0.393  \n",
       "225     0.290    0.489  \n",
       "226     0.243    0.579  \n",
       "\n",
       "[5 rows x 22 columns]"
      ]
     },
     "execution_count": 4,
     "metadata": {},
     "output_type": "execute_result"
    }
   ],
   "source": [
    "df.tail()"
   ]
  },
  {
   "cell_type": "code",
   "execution_count": 5,
   "metadata": {
    "id": "G1kBfuG9Uw_n"
   },
   "outputs": [
    {
     "name": "stdout",
     "output_type": "stream",
     "text": [
      "<class 'pandas.core.frame.DataFrame'>\n",
      "RangeIndex: 227 entries, 0 to 226\n",
      "Data columns (total 22 columns):\n",
      " #   Column                              Non-Null Count  Dtype  \n",
      "---  ------                              --------------  -----  \n",
      " 0   date                                227 non-null    object \n",
      " 1   source                              227 non-null    object \n",
      " 2   Country                             227 non-null    object \n",
      " 3   Region                              227 non-null    object \n",
      " 4   Population                          227 non-null    int64  \n",
      " 5   Area (sq. mi.)                      227 non-null    int64  \n",
      " 6   Pop. Density (per sq. mi.)          227 non-null    float64\n",
      " 7   Coastline (coast/area ratio)        227 non-null    float64\n",
      " 8   Net migration                       224 non-null    float64\n",
      " 9   Infant mortality (per 1000 births)  224 non-null    float64\n",
      " 10  GDP ($ per capita)                  226 non-null    float64\n",
      " 11  Literacy (%)                        209 non-null    float64\n",
      " 12  Phones (per 1000)                   223 non-null    float64\n",
      " 13  Arable (%)                          225 non-null    float64\n",
      " 14  Crops (%)                           225 non-null    float64\n",
      " 15  Other (%)                           225 non-null    float64\n",
      " 16  Climate                             205 non-null    float64\n",
      " 17  Birthrate                           224 non-null    float64\n",
      " 18  Deathrate                           223 non-null    float64\n",
      " 19  Agriculture                         212 non-null    float64\n",
      " 20  Industry                            211 non-null    float64\n",
      " 21  Service                             212 non-null    float64\n",
      "dtypes: float64(16), int64(2), object(4)\n",
      "memory usage: 39.1+ KB\n"
     ]
    }
   ],
   "source": [
    "df.info()"
   ]
  },
  {
   "cell_type": "code",
   "execution_count": 6,
   "metadata": {
    "id": "5WXo9qTKT7nj"
   },
   "outputs": [
    {
     "data": {
      "text/plain": [
       "date                                   object\n",
       "source                                 object\n",
       "Country                                object\n",
       "Region                                 object\n",
       "Population                              int64\n",
       "Area (sq. mi.)                          int64\n",
       "Pop. Density (per sq. mi.)            float64\n",
       "Coastline (coast/area ratio)          float64\n",
       "Net migration                         float64\n",
       "Infant mortality (per 1000 births)    float64\n",
       "GDP ($ per capita)                    float64\n",
       "Literacy (%)                          float64\n",
       "Phones (per 1000)                     float64\n",
       "Arable (%)                            float64\n",
       "Crops (%)                             float64\n",
       "Other (%)                             float64\n",
       "Climate                               float64\n",
       "Birthrate                             float64\n",
       "Deathrate                             float64\n",
       "Agriculture                           float64\n",
       "Industry                              float64\n",
       "Service                               float64\n",
       "dtype: object"
      ]
     },
     "execution_count": 6,
     "metadata": {},
     "output_type": "execute_result"
    }
   ],
   "source": [
    "df.dtypes"
   ]
  },
  {
   "cell_type": "markdown",
   "metadata": {
    "id": "Kq_LZm-zOkBc"
   },
   "source": [
    "### Pregunta 1.3\n",
    "\n",
    "La variable `source` es innecesaria debido que contiene el mismo valor para todas las observaciones. Elimine esta variable de su `df`."
   ]
  },
  {
   "cell_type": "code",
   "execution_count": 7,
   "metadata": {
    "id": "lEb-N3nkOobU"
   },
   "outputs": [],
   "source": [
    "df.drop('source', axis=1, inplace=True)"
   ]
  },
  {
   "cell_type": "markdown",
   "metadata": {
    "id": "tThRIJnuYd4c"
   },
   "source": [
    "### Pregunta 1.4\n",
    "\n",
    "Transforme el tipo de la variable `date` a `datetime` _datatype_."
   ]
  },
  {
   "cell_type": "code",
   "execution_count": 8,
   "metadata": {
    "id": "uoXnhZDfYdVt"
   },
   "outputs": [],
   "source": [
    "df['date'] = pd.to_datetime(df['date'])"
   ]
  },
  {
   "cell_type": "markdown",
   "metadata": {
    "id": "KgRsTOJcWig8"
   },
   "source": [
    "### Pregunta 1.5\n",
    "\n",
    "Para determinar si las variables son \"útiles\" y sus valores son \"correctos\" es necesario comprender cada uno de los atributos del dataset.\n",
    "Investigue y explique brevemente la relación **teórica** entre el `GDP (% per capita)` y cada una de las variables denominadas como \"Características del país\" en la introducción.\n",
    "\n",
    "Ejemplo: Existe una variable denominada `Coastline (coast/area ratio)`. Coastline es una medida de la cantidad de costa (acceso a mar) del país normalizada al área total del país para no beneficiar a países más grandes pero con la misma proporción de costa. A mayor \"Costline\" aumenta la capacidad portuaria per capita del país, más puertos facilita el comercio y podría aumentar el GDP per cápita."
   ]
  },
  {
   "cell_type": "code",
   "execution_count": 9,
   "metadata": {},
   "outputs": [
    {
     "data": {
      "text/plain": [
       "date                                  datetime64[ns]\n",
       "Country                                       object\n",
       "Region                                        object\n",
       "Population                                     int64\n",
       "Area (sq. mi.)                                 int64\n",
       "Pop. Density (per sq. mi.)                   float64\n",
       "Coastline (coast/area ratio)                 float64\n",
       "Net migration                                float64\n",
       "Infant mortality (per 1000 births)           float64\n",
       "GDP ($ per capita)                           float64\n",
       "Literacy (%)                                 float64\n",
       "Phones (per 1000)                            float64\n",
       "Arable (%)                                   float64\n",
       "Crops (%)                                    float64\n",
       "Other (%)                                    float64\n",
       "Climate                                      float64\n",
       "Birthrate                                    float64\n",
       "Deathrate                                    float64\n",
       "Agriculture                                  float64\n",
       "Industry                                     float64\n",
       "Service                                      float64\n",
       "dtype: object"
      ]
     },
     "execution_count": 9,
     "metadata": {},
     "output_type": "execute_result"
    }
   ],
   "source": [
    "df.dtypes"
   ]
  },
  {
   "cell_type": "code",
   "execution_count": 10,
   "metadata": {},
   "outputs": [
    {
     "data": {
      "text/html": [
       "<div>\n",
       "<style scoped>\n",
       "    .dataframe tbody tr th:only-of-type {\n",
       "        vertical-align: middle;\n",
       "    }\n",
       "\n",
       "    .dataframe tbody tr th {\n",
       "        vertical-align: top;\n",
       "    }\n",
       "\n",
       "    .dataframe thead th {\n",
       "        text-align: right;\n",
       "    }\n",
       "</style>\n",
       "<table border=\"1\" class=\"dataframe\">\n",
       "  <thead>\n",
       "    <tr style=\"text-align: right;\">\n",
       "      <th></th>\n",
       "      <th>date</th>\n",
       "      <th>Country</th>\n",
       "      <th>Region</th>\n",
       "      <th>Population</th>\n",
       "      <th>Area (sq. mi.)</th>\n",
       "      <th>Pop. Density (per sq. mi.)</th>\n",
       "      <th>Coastline (coast/area ratio)</th>\n",
       "      <th>Net migration</th>\n",
       "      <th>Infant mortality (per 1000 births)</th>\n",
       "      <th>GDP ($ per capita)</th>\n",
       "      <th>...</th>\n",
       "      <th>Phones (per 1000)</th>\n",
       "      <th>Arable (%)</th>\n",
       "      <th>Crops (%)</th>\n",
       "      <th>Other (%)</th>\n",
       "      <th>Climate</th>\n",
       "      <th>Birthrate</th>\n",
       "      <th>Deathrate</th>\n",
       "      <th>Agriculture</th>\n",
       "      <th>Industry</th>\n",
       "      <th>Service</th>\n",
       "    </tr>\n",
       "  </thead>\n",
       "  <tbody>\n",
       "    <tr>\n",
       "      <th>41</th>\n",
       "      <td>2007-01-01</td>\n",
       "      <td>Chile</td>\n",
       "      <td>LATIN AMER. &amp; CARIB</td>\n",
       "      <td>16134219</td>\n",
       "      <td>756950</td>\n",
       "      <td>21.3</td>\n",
       "      <td>0.85</td>\n",
       "      <td>0.0</td>\n",
       "      <td>8.8</td>\n",
       "      <td>9900.0</td>\n",
       "      <td>...</td>\n",
       "      <td>213.0</td>\n",
       "      <td>2.65</td>\n",
       "      <td>0.42</td>\n",
       "      <td>96.93</td>\n",
       "      <td>3.0</td>\n",
       "      <td>15.23</td>\n",
       "      <td>5.81</td>\n",
       "      <td>0.06</td>\n",
       "      <td>0.493</td>\n",
       "      <td>0.447</td>\n",
       "    </tr>\n",
       "  </tbody>\n",
       "</table>\n",
       "<p>1 rows × 21 columns</p>\n",
       "</div>"
      ],
      "text/plain": [
       "         date Country                   Region  Population  Area (sq. mi.)  \\\n",
       "41 2007-01-01  Chile   LATIN AMER. & CARIB        16134219          756950   \n",
       "\n",
       "    Pop. Density (per sq. mi.)  Coastline (coast/area ratio)  Net migration  \\\n",
       "41                        21.3                          0.85            0.0   \n",
       "\n",
       "    Infant mortality (per 1000 births)  GDP ($ per capita)  ...  \\\n",
       "41                                 8.8              9900.0  ...   \n",
       "\n",
       "    Phones (per 1000)  Arable (%)  Crops (%)  Other (%)  Climate  Birthrate  \\\n",
       "41              213.0        2.65       0.42      96.93      3.0      15.23   \n",
       "\n",
       "    Deathrate  Agriculture  Industry  Service  \n",
       "41       5.81         0.06     0.493    0.447  \n",
       "\n",
       "[1 rows x 21 columns]"
      ]
     },
     "execution_count": 10,
     "metadata": {},
     "output_type": "execute_result"
    }
   ],
   "source": [
    "df_cl = df[df[\"Country\"]==\"Chile \"]\n",
    "df_cl"
   ]
  },
  {
   "cell_type": "markdown",
   "metadata": {
    "id": "ioYH5uWuXT68"
   },
   "source": [
    "\n",
    "\n",
    "\n",
    "---\n",
    "*Respuesta:* \n",
    "\n",
    "#### Variables:\n",
    "- `date:`\n",
    "- `Country:`\n",
    "- `Region:` Se refiere a la región dentro del continente en el que habitan. Se esperaría que este atributo absorba todas las diferencias idiosincráticas e inobservables (o por lo menos, aquellas omitidas en el dataset) que varían solo por pertenecer a una región en particular.\n",
    "- `Population:` Por la propia fórmula del PIB per cápita, ceteris paribus debería haber una caída en este indicador al aumentar la población del país. En otras palabras, si un país quiere crecer en términos per cápita, el PIB debería crecer a una mayor tasa que su población.\n",
    "- `Area (sq. mi.):` \n",
    "- `Pop. Density (per sq. mi.):` Se espera que haya mayor actividad económica en regiones más densas, debido a la facilidad de llevar a cabo el comercio, el intercambio, y por ende, la especialización.\n",
    "- `Coastline (coast/area ratio):` dada en el ejemplo.\n",
    "- `Net migration:` Altos índices de inmigración netos implica un mayor crecimiento de la población (debido a la inmigración), lo que (ceteris paribus) disminuye el PIB per cápita.\n",
    "- `Infant mortality (per 1000 births):` Es un proxy del acceso a la salud; países más ricos, es decir, de mayor gdp per cápita, tenderían a tener menos mortalidad infantil.\n",
    "- `GDP Per Capita:` variable objetivo, pib per cápita.\n",
    "- `Literacy:` Es un proxy de la calidad de educación entre países, así como un factor influyente en la productividad; se esperaría que países con mayor alfabetismo tengan trabajadores más capaces/productivos.\n",
    "- `Phones (per 1000):` Tener teléfonos celulares facilita el acceso a la información y comunicación. También tiene un efecto llamado \"leapfrogging technology\", donde los celulares sustituyen infraestructura inadecuada de línea fija (Mensah, 2023).\n",
    "- `Arable (%):` Es el porcentaje de tierra potencialmente utilizable para la agricultura\n",
    "- `Crops (%):` Es el porcentaje de tierra que ya se usa para plantaciones\n",
    "- `Other (%):` El complemento o resto porcentual de tierras que no son trabajadas en agricultura ni tienen el potencial de serlo.\n",
    "- `Climate:`\n",
    "- `Birthrate:` Tasa de nacimientos\n",
    "- `Deathrate:` Tasa de defunciones\n",
    "- `Agriculture:`  \n",
    "- `Industry:`\n",
    "- `Service :`\n",
    "\n",
    "---\n",
    "\n",
    "Referencias:\n",
    "\n",
    "Mensah, J. T. (2023). Mobile phones and local economic development: A global evidence. Policy Research Working Paper 10526, The World Bank Office of the Chief Economist, Africa Region."
   ]
  },
  {
   "cell_type": "markdown",
   "metadata": {
    "id": "8B-vbfFpGTu_"
   },
   "source": [
    "### Pregunta 1.6\n",
    "\n",
    "Calcule estadísticas descriptivas para cada variable numérica."
   ]
  },
  {
   "cell_type": "code",
   "execution_count": 11,
   "metadata": {
    "id": "kFLecrBPGTgN"
   },
   "outputs": [
    {
     "data": {
      "text/html": [
       "<div>\n",
       "<style scoped>\n",
       "    .dataframe tbody tr th:only-of-type {\n",
       "        vertical-align: middle;\n",
       "    }\n",
       "\n",
       "    .dataframe tbody tr th {\n",
       "        vertical-align: top;\n",
       "    }\n",
       "\n",
       "    .dataframe thead th {\n",
       "        text-align: right;\n",
       "    }\n",
       "</style>\n",
       "<table border=\"1\" class=\"dataframe\">\n",
       "  <thead>\n",
       "    <tr style=\"text-align: right;\">\n",
       "      <th></th>\n",
       "      <th>Population</th>\n",
       "      <th>Area (sq. mi.)</th>\n",
       "      <th>Pop. Density (per sq. mi.)</th>\n",
       "      <th>Coastline (coast/area ratio)</th>\n",
       "      <th>Net migration</th>\n",
       "      <th>Infant mortality (per 1000 births)</th>\n",
       "      <th>GDP ($ per capita)</th>\n",
       "      <th>Literacy (%)</th>\n",
       "      <th>Phones (per 1000)</th>\n",
       "      <th>Arable (%)</th>\n",
       "      <th>Crops (%)</th>\n",
       "      <th>Other (%)</th>\n",
       "      <th>Climate</th>\n",
       "      <th>Birthrate</th>\n",
       "      <th>Deathrate</th>\n",
       "      <th>Agriculture</th>\n",
       "      <th>Industry</th>\n",
       "      <th>Service</th>\n",
       "    </tr>\n",
       "  </thead>\n",
       "  <tbody>\n",
       "    <tr>\n",
       "      <th>count</th>\n",
       "      <td>2.270000e+02</td>\n",
       "      <td>2.270000e+02</td>\n",
       "      <td>227.000000</td>\n",
       "      <td>227.000000</td>\n",
       "      <td>224.000000</td>\n",
       "      <td>224.000000</td>\n",
       "      <td>226.000000</td>\n",
       "      <td>209.000000</td>\n",
       "      <td>223.000000</td>\n",
       "      <td>225.000000</td>\n",
       "      <td>225.000000</td>\n",
       "      <td>225.000000</td>\n",
       "      <td>205.000000</td>\n",
       "      <td>224.000000</td>\n",
       "      <td>223.000000</td>\n",
       "      <td>212.000000</td>\n",
       "      <td>211.000000</td>\n",
       "      <td>212.000000</td>\n",
       "    </tr>\n",
       "    <tr>\n",
       "      <th>mean</th>\n",
       "      <td>2.874028e+07</td>\n",
       "      <td>5.982270e+05</td>\n",
       "      <td>379.047137</td>\n",
       "      <td>21.165330</td>\n",
       "      <td>0.038125</td>\n",
       "      <td>35.506964</td>\n",
       "      <td>9689.823009</td>\n",
       "      <td>82.838278</td>\n",
       "      <td>236.061435</td>\n",
       "      <td>13.797111</td>\n",
       "      <td>4.564222</td>\n",
       "      <td>81.638311</td>\n",
       "      <td>2.139024</td>\n",
       "      <td>22.114732</td>\n",
       "      <td>9.241345</td>\n",
       "      <td>0.150844</td>\n",
       "      <td>0.282711</td>\n",
       "      <td>0.565283</td>\n",
       "    </tr>\n",
       "    <tr>\n",
       "      <th>std</th>\n",
       "      <td>1.178913e+08</td>\n",
       "      <td>1.790282e+06</td>\n",
       "      <td>1660.185825</td>\n",
       "      <td>72.286863</td>\n",
       "      <td>4.889269</td>\n",
       "      <td>35.389899</td>\n",
       "      <td>10049.138513</td>\n",
       "      <td>19.722173</td>\n",
       "      <td>227.991829</td>\n",
       "      <td>13.040402</td>\n",
       "      <td>8.361470</td>\n",
       "      <td>16.140835</td>\n",
       "      <td>0.699397</td>\n",
       "      <td>11.176716</td>\n",
       "      <td>4.990026</td>\n",
       "      <td>0.146798</td>\n",
       "      <td>0.138272</td>\n",
       "      <td>0.165841</td>\n",
       "    </tr>\n",
       "    <tr>\n",
       "      <th>min</th>\n",
       "      <td>7.026000e+03</td>\n",
       "      <td>2.000000e+00</td>\n",
       "      <td>0.000000</td>\n",
       "      <td>0.000000</td>\n",
       "      <td>-20.990000</td>\n",
       "      <td>2.290000</td>\n",
       "      <td>500.000000</td>\n",
       "      <td>17.600000</td>\n",
       "      <td>0.200000</td>\n",
       "      <td>0.000000</td>\n",
       "      <td>0.000000</td>\n",
       "      <td>33.330000</td>\n",
       "      <td>1.000000</td>\n",
       "      <td>7.290000</td>\n",
       "      <td>2.290000</td>\n",
       "      <td>0.000000</td>\n",
       "      <td>0.020000</td>\n",
       "      <td>0.062000</td>\n",
       "    </tr>\n",
       "    <tr>\n",
       "      <th>25%</th>\n",
       "      <td>4.376240e+05</td>\n",
       "      <td>4.647500e+03</td>\n",
       "      <td>29.150000</td>\n",
       "      <td>0.100000</td>\n",
       "      <td>-0.927500</td>\n",
       "      <td>8.150000</td>\n",
       "      <td>1900.000000</td>\n",
       "      <td>70.600000</td>\n",
       "      <td>37.800000</td>\n",
       "      <td>3.220000</td>\n",
       "      <td>0.190000</td>\n",
       "      <td>71.650000</td>\n",
       "      <td>2.000000</td>\n",
       "      <td>12.672500</td>\n",
       "      <td>5.910000</td>\n",
       "      <td>0.037750</td>\n",
       "      <td>0.193000</td>\n",
       "      <td>0.429250</td>\n",
       "    </tr>\n",
       "    <tr>\n",
       "      <th>50%</th>\n",
       "      <td>4.786994e+06</td>\n",
       "      <td>8.660000e+04</td>\n",
       "      <td>78.800000</td>\n",
       "      <td>0.730000</td>\n",
       "      <td>0.000000</td>\n",
       "      <td>21.000000</td>\n",
       "      <td>5550.000000</td>\n",
       "      <td>92.500000</td>\n",
       "      <td>176.200000</td>\n",
       "      <td>10.420000</td>\n",
       "      <td>1.030000</td>\n",
       "      <td>85.700000</td>\n",
       "      <td>2.000000</td>\n",
       "      <td>18.790000</td>\n",
       "      <td>7.840000</td>\n",
       "      <td>0.099000</td>\n",
       "      <td>0.272000</td>\n",
       "      <td>0.571000</td>\n",
       "    </tr>\n",
       "    <tr>\n",
       "      <th>75%</th>\n",
       "      <td>1.749777e+07</td>\n",
       "      <td>4.418110e+05</td>\n",
       "      <td>190.150000</td>\n",
       "      <td>10.345000</td>\n",
       "      <td>0.997500</td>\n",
       "      <td>55.705000</td>\n",
       "      <td>15700.000000</td>\n",
       "      <td>98.000000</td>\n",
       "      <td>389.650000</td>\n",
       "      <td>20.000000</td>\n",
       "      <td>4.440000</td>\n",
       "      <td>95.440000</td>\n",
       "      <td>3.000000</td>\n",
       "      <td>29.820000</td>\n",
       "      <td>10.605000</td>\n",
       "      <td>0.221000</td>\n",
       "      <td>0.341000</td>\n",
       "      <td>0.678500</td>\n",
       "    </tr>\n",
       "    <tr>\n",
       "      <th>max</th>\n",
       "      <td>1.313974e+09</td>\n",
       "      <td>1.707520e+07</td>\n",
       "      <td>16271.500000</td>\n",
       "      <td>870.660000</td>\n",
       "      <td>23.060000</td>\n",
       "      <td>191.190000</td>\n",
       "      <td>55100.000000</td>\n",
       "      <td>100.000000</td>\n",
       "      <td>1035.600000</td>\n",
       "      <td>62.110000</td>\n",
       "      <td>50.680000</td>\n",
       "      <td>100.000000</td>\n",
       "      <td>4.000000</td>\n",
       "      <td>50.730000</td>\n",
       "      <td>29.740000</td>\n",
       "      <td>0.769000</td>\n",
       "      <td>0.906000</td>\n",
       "      <td>0.954000</td>\n",
       "    </tr>\n",
       "  </tbody>\n",
       "</table>\n",
       "</div>"
      ],
      "text/plain": [
       "         Population  Area (sq. mi.)  Pop. Density (per sq. mi.)  \\\n",
       "count  2.270000e+02    2.270000e+02                  227.000000   \n",
       "mean   2.874028e+07    5.982270e+05                  379.047137   \n",
       "std    1.178913e+08    1.790282e+06                 1660.185825   \n",
       "min    7.026000e+03    2.000000e+00                    0.000000   \n",
       "25%    4.376240e+05    4.647500e+03                   29.150000   \n",
       "50%    4.786994e+06    8.660000e+04                   78.800000   \n",
       "75%    1.749777e+07    4.418110e+05                  190.150000   \n",
       "max    1.313974e+09    1.707520e+07                16271.500000   \n",
       "\n",
       "       Coastline (coast/area ratio)  Net migration  \\\n",
       "count                    227.000000     224.000000   \n",
       "mean                      21.165330       0.038125   \n",
       "std                       72.286863       4.889269   \n",
       "min                        0.000000     -20.990000   \n",
       "25%                        0.100000      -0.927500   \n",
       "50%                        0.730000       0.000000   \n",
       "75%                       10.345000       0.997500   \n",
       "max                      870.660000      23.060000   \n",
       "\n",
       "       Infant mortality (per 1000 births)  GDP ($ per capita)  Literacy (%)  \\\n",
       "count                          224.000000          226.000000    209.000000   \n",
       "mean                            35.506964         9689.823009     82.838278   \n",
       "std                             35.389899        10049.138513     19.722173   \n",
       "min                              2.290000          500.000000     17.600000   \n",
       "25%                              8.150000         1900.000000     70.600000   \n",
       "50%                             21.000000         5550.000000     92.500000   \n",
       "75%                             55.705000        15700.000000     98.000000   \n",
       "max                            191.190000        55100.000000    100.000000   \n",
       "\n",
       "       Phones (per 1000)  Arable (%)   Crops (%)   Other (%)     Climate  \\\n",
       "count         223.000000  225.000000  225.000000  225.000000  205.000000   \n",
       "mean          236.061435   13.797111    4.564222   81.638311    2.139024   \n",
       "std           227.991829   13.040402    8.361470   16.140835    0.699397   \n",
       "min             0.200000    0.000000    0.000000   33.330000    1.000000   \n",
       "25%            37.800000    3.220000    0.190000   71.650000    2.000000   \n",
       "50%           176.200000   10.420000    1.030000   85.700000    2.000000   \n",
       "75%           389.650000   20.000000    4.440000   95.440000    3.000000   \n",
       "max          1035.600000   62.110000   50.680000  100.000000    4.000000   \n",
       "\n",
       "        Birthrate   Deathrate  Agriculture    Industry     Service  \n",
       "count  224.000000  223.000000   212.000000  211.000000  212.000000  \n",
       "mean    22.114732    9.241345     0.150844    0.282711    0.565283  \n",
       "std     11.176716    4.990026     0.146798    0.138272    0.165841  \n",
       "min      7.290000    2.290000     0.000000    0.020000    0.062000  \n",
       "25%     12.672500    5.910000     0.037750    0.193000    0.429250  \n",
       "50%     18.790000    7.840000     0.099000    0.272000    0.571000  \n",
       "75%     29.820000   10.605000     0.221000    0.341000    0.678500  \n",
       "max     50.730000   29.740000     0.769000    0.906000    0.954000  "
      ]
     },
     "execution_count": 11,
     "metadata": {},
     "output_type": "execute_result"
    }
   ],
   "source": [
    "df.describe()"
   ]
  },
  {
   "cell_type": "markdown",
   "metadata": {
    "id": "pNRwxamuGTW0"
   },
   "source": [
    "### Pregunta 1.7\n",
    "\n",
    "Según corresponda, realice un gráfico de distribución de densidad o histograma para describir 3 variables del `df` que usted crea más relevantes.\n",
    "\n",
    "¿Por qué es importante analizar las distribuciones de las variables a utilizar en su modelo? Ejemplifique su respuesta con al menos una de las variables del df`."
   ]
  },
  {
   "cell_type": "code",
   "execution_count": 12,
   "metadata": {
    "scrolled": true
   },
   "outputs": [
    {
     "data": {
      "image/png": "[encoded data removed]",
      "text/plain": [
       "<Figure size 640x480 with 1 Axes>"
      ]
     },
     "metadata": {},
     "output_type": "display_data"
    }
   ],
   "source": [
    "sns.histplot(data=df, x='Service', kde=True, bins=30, color='green', alpha=0.3)\n",
    "## kde nos muestra la curva encima del histograma.\n",
    "## bins es la cantidad de rectángulos\n",
    "## color = es el color del gráfico\n",
    "## alpha es la transparencia del histograma.\n",
    "plt.title('Service - Densidad') \n",
    "plt.xlabel('Service') \n",
    "plt.ylabel('Densidad') \n",
    "plt.show()"
   ]
  },
  {
   "cell_type": "code",
   "execution_count": 13,
   "metadata": {
    "scrolled": true
   },
   "outputs": [
    {
     "data": {
      "image/png": "[encoded data removed]",
      "text/plain": [
       "<Figure size 1000x400 with 3 Axes>"
      ]
     },
     "metadata": {},
     "output_type": "display_data"
    }
   ],
   "source": [
    "variables_importantes = [\"Service\", \"Literacy (%)\", \"Climate\"]\n",
    "\n",
    "fig, axes = plt.subplots(1, 3, figsize=(10, 4))\n",
    "# axes es un subplot vacío\n",
    "\n",
    "for i, var in enumerate(variables_importantes):\n",
    "    sns.histplot(data=df, x=var, kde=True, bins=30, color='green', alpha=0.3, ax=axes[i])\n",
    "    #ax = axes[i] asigna al gráfico vacío el gráfico que queremos hacer.\n",
    "    axes[i].set_title(f'{var} - Densidad') #pertenece a matplotlib; ayuda a cambiar el nombre a los ejes\n",
    "    # no se puede usar plt.title ya que sería para el gráfico entero (acá hay subplots)\n",
    "    axes[i].set_xlabel(var)\n",
    "    axes[i].set_ylabel('Densidad')\n",
    "\n",
    "plt.tight_layout() #para que no se superpongan.\n",
    "plt.show()\n"
   ]
  },
  {
   "cell_type": "markdown",
   "metadata": {
    "id": "yDPjO7ZlsxkW"
   },
   "source": [
    "\n",
    "\n",
    "\n",
    "---\n",
    "\n",
    "\n",
    "*Escriba* su respuesta en esta celda...\n",
    "\n",
    "\n",
    "---\n",
    "\n"
   ]
  },
  {
   "cell_type": "markdown",
   "metadata": {
    "id": "iD8GiEgyYOjK"
   },
   "source": [
    "### Pregunta 1.8\n",
    "\n",
    "El df contiene variables con missing values (`NaN`). Impute los `NaN` con el método que estime conveniente, justificando su decisión.\n",
    "\n",
    "¿Es pertinente eliminar alguna de estas variables? Hágalo si es el caso."
   ]
  },
  {
   "cell_type": "code",
   "execution_count": 14,
   "metadata": {
    "id": "BIgxqtYKZ4xi"
   },
   "outputs": [
    {
     "data": {
      "text/plain": [
       "Net migration                          3\n",
       "Infant mortality (per 1000 births)     3\n",
       "GDP ($ per capita)                     1\n",
       "Literacy (%)                          18\n",
       "Phones (per 1000)                      4\n",
       "Arable (%)                             2\n",
       "Crops (%)                              2\n",
       "Other (%)                              2\n",
       "Climate                               22\n",
       "Birthrate                              3\n",
       "Deathrate                              4\n",
       "Agriculture                           15\n",
       "Industry                              16\n",
       "Service                               15\n",
       "dtype: int64"
      ]
     },
     "execution_count": 14,
     "metadata": {},
     "output_type": "execute_result"
    }
   ],
   "source": [
    "contador_missing = df.isnull().sum()\n",
    "contador_missing[contador_missing > 0]"
   ]
  },
  {
   "cell_type": "code",
   "execution_count": 15,
   "metadata": {
    "scrolled": true
   },
   "outputs": [
    {
     "name": "stdout",
     "output_type": "stream",
     "text": [
      "Porcentaje del df que perderíamos si borramos todos los missings: 10%\n"
     ]
    }
   ],
   "source": [
    "print(f'Porcentaje del df que perderíamos si borramos todos los missings: {round(100*22/len(df))}%')"
   ]
  },
  {
   "cell_type": "code",
   "execution_count": 26,
   "metadata": {
    "scrolled": true
   },
   "outputs": [
    {
     "name": "stdout",
     "output_type": "stream",
     "text": [
      "                            OLS Regression Results                            \n",
      "==============================================================================\n",
      "Dep. Variable:     GDP ($ per capita)   R-squared:                       0.874\n",
      "Model:                            OLS   Adj. R-squared:                  0.848\n",
      "Method:                 Least Squares   F-statistic:                     33.59\n",
      "Date:                Tue, 01 Apr 2025   Prob (F-statistic):           7.88e-30\n",
      "Time:                        21:45:23   Log-Likelihood:                -40.788\n",
      "No. Observations:                 100   AIC:                             117.6\n",
      "Df Residuals:                      82   BIC:                             164.5\n",
      "Df Model:                          17                                         \n",
      "Covariance Type:            nonrobust                                         \n",
      "======================================================================================================\n",
      "                                         coef    std err          t      P>|t|      [0.025      0.975]\n",
      "------------------------------------------------------------------------------------------------------\n",
      "const                                  9.0191      2.328      3.874      0.000       4.388      13.650\n",
      "Population                             2.1671     25.338      0.086      0.932     -48.237      52.572\n",
      "Area (sq. mi.)                        -2.1345     25.341     -0.084      0.933     -52.546      48.276\n",
      "Pop. Density (per sq. mi.)            -2.2221     25.328     -0.088      0.930     -52.607      48.163\n",
      "Coastline (coast/area ratio)           0.0120      0.042      0.284      0.777      -0.072       0.096\n",
      "Net migration                         -0.0510      0.034     -1.493      0.139      -0.119       0.017\n",
      "Infant mortality (per 1000 births)    -0.3580      0.109     -3.274      0.002      -0.576      -0.141\n",
      "Literacy (%)                          -0.4283      0.273     -1.568      0.121      -0.972       0.115\n",
      "Phones (per 1000)                      0.3478      0.078      4.481      0.000       0.193       0.502\n",
      "Arable (%)                             0.0319      0.066      0.481      0.632      -0.100       0.164\n",
      "Crops (%)                              0.0051      0.035      0.146      0.884      -0.065       0.075\n",
      "Other (%)                              0.0458      0.274      0.167      0.868      -0.499       0.590\n",
      "Climate                                0.0121      0.190      0.064      0.949      -0.366       0.390\n",
      "Birthrate                             -0.1256      0.224     -0.560      0.577      -0.572       0.321\n",
      "Deathrate                             -0.0284      0.142     -0.200      0.842      -0.311       0.254\n",
      "Agriculture                           -0.3161      0.064     -4.942      0.000      -0.443      -0.189\n",
      "Industry                              -0.0350      0.129     -0.271      0.787      -0.292       0.222\n",
      "Service                               -0.1845      0.229     -0.805      0.423      -0.641       0.272\n",
      "==============================================================================\n",
      "Omnibus:                        0.631   Durbin-Watson:                   1.825\n",
      "Prob(Omnibus):                  0.729   Jarque-Bera (JB):                0.474\n",
      "Skew:                          -0.169   Prob(JB):                        0.789\n",
      "Kurtosis:                       2.998   Cond. No.                     2.41e+04\n",
      "==============================================================================\n",
      "\n",
      "Notes:\n",
      "[1] Standard Errors assume that the covariance matrix of the errors is correctly specified.\n",
      "[2] The condition number is large, 2.41e+04. This might indicate that there are\n",
      "strong multicollinearity or other numerical problems.\n"
     ]
    }
   ],
   "source": [
    "X = df.dropna().select_dtypes(include=['number']).abs()\n",
    "X = X[X>0].dropna().apply(np.log)\n",
    "y = X['GDP ($ per capita)']\n",
    "X.drop('GDP ($ per capita)', axis=1, inplace=True)\n",
    "\n",
    "# Add a constant to the model (for the intercept)\n",
    "X = sm.add_constant(X)\n",
    "\n",
    "# Fit the regression model\n",
    "model = sm.OLS(y, X).fit()\n",
    "\n",
    "# Print the regression results\n",
    "print(model.summary())\n"
   ]
  },
  {
   "cell_type": "code",
   "execution_count": 24,
   "metadata": {},
   "outputs": [
    {
     "data": {
      "text/plain": [
       "const                                 100.000000\n",
       "Infant mortality (per 1000 births)    291.105370\n",
       "Phones (per 1000)                     495.893690\n",
       "Agriculture                          -269.684759\n",
       "dtype: float64"
      ]
     },
     "execution_count": 24,
     "metadata": {},
     "output_type": "execute_result"
    }
   ],
   "source": [
    "significant_vars = model.pvalues[model.pvalues <= 0.05].index\n",
    "\n",
    "X_significant = X[significant_vars]\n",
    "X_significant.sum()"
   ]
  },
  {
   "cell_type": "code",
   "execution_count": 25,
   "metadata": {},
   "outputs": [
    {
     "name": "stdout",
     "output_type": "stream",
     "text": [
      "                            OLS Regression Results                            \n",
      "==============================================================================\n",
      "Dep. Variable:     GDP ($ per capita)   R-squared:                       0.849\n",
      "Model:                            OLS   Adj. R-squared:                  0.844\n",
      "Method:                 Least Squares   F-statistic:                     179.4\n",
      "Date:                Tue, 01 Apr 2025   Prob (F-statistic):           3.17e-39\n",
      "Time:                        21:41:28   Log-Likelihood:                -50.121\n",
      "No. Observations:                 100   AIC:                             108.2\n",
      "Df Residuals:                      96   BIC:                             118.7\n",
      "Df Model:                           3                                         \n",
      "Covariance Type:            nonrobust                                         \n",
      "======================================================================================================\n",
      "                                         coef    std err          t      P>|t|      [0.025      0.975]\n",
      "------------------------------------------------------------------------------------------------------\n",
      "const                                  7.5848      0.516     14.699      0.000       6.561       8.609\n",
      "Infant mortality (per 1000 births)    -0.3583      0.086     -4.165      0.000      -0.529      -0.188\n",
      "Phones (per 1000)                      0.3044      0.057      5.372      0.000       0.192       0.417\n",
      "Agriculture                           -0.2690      0.046     -5.799      0.000      -0.361      -0.177\n",
      "==============================================================================\n",
      "Omnibus:                        3.967   Durbin-Watson:                   1.925\n",
      "Prob(Omnibus):                  0.138   Jarque-Bera (JB):                3.698\n",
      "Skew:                          -0.471   Prob(JB):                        0.157\n",
      "Kurtosis:                       3.003   Cond. No.                         84.0\n",
      "==============================================================================\n",
      "\n",
      "Notes:\n",
      "[1] Standard Errors assume that the covariance matrix of the errors is correctly specified.\n"
     ]
    }
   ],
   "source": [
    "new_model = sm.OLS(y, X_significant).fit()\n",
    "\n",
    "# Print the summary of the new model\n",
    "print(new_model.summary())"
   ]
  },
  {
   "cell_type": "markdown",
   "metadata": {
    "id": "YnrIjyd3s4B_"
   },
   "source": [
    "\n",
    "\n",
    "\n",
    "---\n",
    "\n",
    "\n",
    "*Escriba* su respuesta y **justificación** en esta celda...\n",
    "\n",
    "\n",
    "---\n"
   ]
  },
  {
   "cell_type": "markdown",
   "metadata": {
    "id": "1iIjVTdTZ5ZP"
   },
   "source": [
    "### Pregunta 1.9\n",
    "\n",
    "¿Cómo distribuye el `GDP ($ per capita)` en diferentes **regiones**? Defina una forma ilustrativa de gráficar el `GDP ($ per capita)` para todas las regiones en un mismo gráfico. Interprételo."
   ]
  },
  {
   "cell_type": "code",
   "execution_count": 44,
   "metadata": {
    "id": "Bw9ZTqw-60f-"
   },
   "outputs": [
    {
     "data": {
      "image/png": "[encoded data removed]",
      "text/plain": [
       "<Figure size 640x480 with 1 Axes>"
      ]
     },
     "metadata": {},
     "output_type": "display_data"
    }
   ],
   "source": [
    "sns.kdeplot(data=df, x='GDP ($ per capita)', hue='Region', fill=False, alpha=0.9)\n",
    "plt.title(\"GDP per capita by region\")\n",
    "plt.xlabel(\"GDP ($ per capita)\")\n",
    "plt.ylabel(\"Density\")\n",
    "plt.show()"
   ]
  },
  {
   "cell_type": "code",
   "execution_count": 40,
   "metadata": {},
   "outputs": [
    {
     "data": {
      "text/plain": [
       "0        700.0\n",
       "1       4500.0\n",
       "2       6000.0\n",
       "3       8000.0\n",
       "4      19000.0\n",
       "        ...   \n",
       "222      800.0\n",
       "223        NaN\n",
       "224      800.0\n",
       "225      800.0\n",
       "226     1900.0\n",
       "Name: GDP ($ per capita), Length: 227, dtype: float64"
      ]
     },
     "execution_count": 40,
     "metadata": {},
     "output_type": "execute_result"
    }
   ],
   "source": [
    "df['GDP ($ per capita)']"
   ]
  },
  {
   "cell_type": "markdown",
   "metadata": {
    "id": "5wFdt20OzKDu"
   },
   "source": [
    "\n",
    "\n",
    "\n",
    "---\n",
    "\n",
    "\n",
    "*Escriba* su interpretación en esta celda...\n",
    "\n",
    "\n",
    "---\n"
   ]
  },
  {
   "cell_type": "markdown",
   "metadata": {
    "id": "WC5M0JqWwBuH"
   },
   "source": [
    "### Pregunta 1.10\n",
    "\n",
    "Supongamos que `GDP ($ per capita)` es su variable objetivo. Estudie la correlación de esta variable con el resto de las variables del `df`. ¿Por qué es importante analizar la correlación entre las variables?\n",
    "\n"
   ]
  },
  {
   "cell_type": "code",
   "execution_count": 30,
   "metadata": {
    "id": "gwFcYfHh3hYG"
   },
   "outputs": [],
   "source": [
    "correlaciones = df.dropna().corr(numeric_only=True)[\"GDP ($ per capita)\"]"
   ]
  },
  {
   "cell_type": "code",
   "execution_count": 31,
   "metadata": {},
   "outputs": [
    {
     "data": {
      "text/plain": [
       "pandas.core.series.Series"
      ]
     },
     "execution_count": 31,
     "metadata": {},
     "output_type": "execute_result"
    }
   ],
   "source": [
    "type(correlaciones)"
   ]
  },
  {
   "cell_type": "code",
   "execution_count": 32,
   "metadata": {},
   "outputs": [
    {
     "data": {
      "text/plain": [
       "GDP ($ per capita)                    1.000000\n",
       "Phones (per 1000)                     0.883520\n",
       "Birthrate                             0.658795\n",
       "Infant mortality (per 1000 births)    0.639090\n",
       "Agriculture                           0.616919\n",
       "Service                               0.536551\n",
       "Literacy (%)                          0.522880\n",
       "Net migration                         0.378790\n",
       "Climate                               0.360567\n",
       "Deathrate                             0.247562\n",
       "Crops (%)                             0.207844\n",
       "Pop. Density (per sq. mi.)            0.190122\n",
       "Area (sq. mi.)                        0.068356\n",
       "Other (%)                             0.066445\n",
       "Arable (%)                            0.046465\n",
       "Coastline (coast/area ratio)          0.035815\n",
       "Population                            0.033618\n",
       "Industry                              0.032855\n",
       "Name: GDP ($ per capita), dtype: float64"
      ]
     },
     "execution_count": 32,
     "metadata": {},
     "output_type": "execute_result"
    }
   ],
   "source": [
    "correlaciones.abs().sort_values(ascending=False)"
   ]
  },
  {
   "cell_type": "markdown",
   "metadata": {
    "id": "6zal0Jvbzbsi"
   },
   "source": [
    "\n",
    "---\n",
    "\n",
    "\n",
    "*Escriba* su respuesta en esta celda...\n",
    "\n",
    "\n",
    "---\n"
   ]
  },
  {
   "cell_type": "markdown",
   "metadata": {
    "id": "lATF2XHrwsW_"
   },
   "source": [
    "### Pregunta 1.11\n",
    "\n",
    "Realice tres _scatterplots_ (uno por variable) de las tres variables con la mayor correlación con la variable objetivo.\n",
    "\n",
    "Utilizando los parámetros de la función con la que hizo los _scatterplots_, coloque un título a cada gráfico y agregue colores a los _data points_ del _scatterplot_- Use colores diferentes por cada gráfico."
   ]
  },
  {
   "cell_type": "code",
   "execution_count": null,
   "metadata": {
    "id": "eOanp97kvDbf"
   },
   "outputs": [],
   "source": [
    "variables_importantes = [\"Phones (per 1000)\", \"Birthrate\", \"Infant mortality (per 1000 births)\"]\n",
    "\n",
    "fig, axes = plt.subplots(1, 3, figsize=(10, 4))\n",
    "# axes es un subplot vacío\n",
    "\n",
    "for i, var in enumerate(variables_importantes):\n",
    "    sns.scatterplot(data=df, x=var, y='GDP ($ per capita)', ax=axes[i], color = \"blue\", alpha=0.7)\n",
    "    #ax = axes[i] asigna al gráfico vacío el gráfico que queremos hacer.\n",
    "    axes[i].set_title(f'{var} - Densidad') #pertenece a matplotlib; ayuda a cambiar el nombre a los ejes\n",
    "    # no se puede usar plt.title ya que sería para el gráfico entero (acá hay subplots)\n",
    "    axes[i].set_xlabel(var)\n",
    "    axes[i].set_ylabel('Densidad')\n",
    "\n",
    "plt.tight_layout() #para que no se superpongan.\n",
    "plt.show()\n"
   ]
  },
  {
   "cell_type": "markdown",
   "metadata": {
    "id": "OaNST_hs9_yO"
   },
   "source": [
    "### Pregunta 1.12\n",
    "\n",
    "Cree una nueva columna `GDP (%)` que represente el GDP total de cada pais (no per capita) y agreguela al dataframe."
   ]
  },
  {
   "cell_type": "code",
   "execution_count": null,
   "metadata": {
    "id": "aGnKADjl9-0c"
   },
   "outputs": [],
   "source": []
  },
  {
   "cell_type": "markdown",
   "metadata": {
    "id": "ltK6u0NlArvi"
   },
   "source": [
    "### Pregunta 1.13\n",
    "\n",
    "Repita el análisis de correlaciones para `GDP ($)` excluyendo `GDP ($ per capita)` del análisis. ¿Cambian las variables que más correlacionan? Justifique."
   ]
  },
  {
   "cell_type": "code",
   "execution_count": null,
   "metadata": {
    "id": "RTvNpyS3-YFM"
   },
   "outputs": [],
   "source": []
  },
  {
   "cell_type": "markdown",
   "metadata": {
    "id": "OVfy1nK90dPZ"
   },
   "source": [
    "\n",
    "\n",
    "\n",
    "---\n",
    "\n",
    "\n",
    "*Escriba* su **justificación** en esta celda...\n",
    "\n",
    "\n",
    "---\n"
   ]
  },
  {
   "cell_type": "markdown",
   "metadata": {
    "id": "muyGLrjtxk3-"
   },
   "source": [
    "### Pregunta 1.14\n",
    "\n",
    "Detecte las observaciones outliers de las tres variables seleccionadas en la pregunta anterior. Además, impute estas observaciones si usted lo considera necesario. Justifique su decisión."
   ]
  },
  {
   "cell_type": "code",
   "execution_count": null,
   "metadata": {
    "id": "L0nsyFRDxl0x"
   },
   "outputs": [],
   "source": []
  },
  {
   "cell_type": "markdown",
   "metadata": {
    "id": "kNCuSK1OsQq4"
   },
   "source": [
    "\n",
    "\n",
    "\n",
    "---\n",
    "\n",
    "\n",
    "*Escriba* su **justificación** en esta celda...\n",
    "\n",
    "\n",
    "---\n",
    "\n"
   ]
  },
  {
   "cell_type": "markdown",
   "metadata": {
    "id": "WsAxkZcBM-LT"
   },
   "source": [
    "### Pregunta 1.15\n",
    "\n",
    "En los ejemplos anteriores calculamos correlaciones para `GDP ($ per capita)` y `GDP ($)`. Genere un nuevo dataframe que tenga le variación porcentual de la correlación absoluta para cada una de las columnas de características, e.g., si la correlación en valor absoluto de `GDP ($ per capita)` vs `Industry` es 0.1 y la correlación `GDP ($)` vs `Industry` es 0.5, la variación deberá ser +500%. Dicha variación porcentual puede ser positiva o negativa, pero ordene los el dataframe de tal manera que la variación de correlación absoluta sea desendiente."
   ]
  },
  {
   "cell_type": "code",
   "execution_count": null,
   "metadata": {
    "id": "7f7_ZV9iM-sI"
   },
   "outputs": [],
   "source": []
  },
  {
   "cell_type": "markdown",
   "metadata": {
    "id": "Qt_OaXwCV5Ug"
   },
   "source": [
    "### Pregunta 1.16\n",
    "\n",
    "Del resultado anterior, ¿qué caracerística del país tuvo una mayor diferencia absoluta el medir su correlación versus `GDP ($)` en vez de `GDP ($ per capita)`'. Interprete."
   ]
  },
  {
   "cell_type": "markdown",
   "metadata": {
    "id": "TyyJoFI2WV12"
   },
   "source": [
    "\n",
    "\n",
    "\n",
    "---\n",
    "\n",
    "\n",
    "*Escriba* su respuesta e interpretación en esta celda...\n",
    "\n",
    "---\n",
    "\n",
    "\n",
    "\n"
   ]
  },
  {
   "cell_type": "markdown",
   "metadata": {
    "id": "H993HrMJ1NqT"
   },
   "source": [
    "## EDA con diferentes fuentes de **información**\n"
   ]
  },
  {
   "cell_type": "markdown",
   "metadata": {
    "id": "AZ8DaatetHdM"
   },
   "source": [
    "Una situación habitual en _Data Science: es el manejo de información de múltiples fuentes para un mismo propósito. En este sentido, de ahora en adelante agregaremos un dataframe adicional a nuestro set de información, disponible en [Github](https://raw.githubusercontent.com/datasets/gini-index/refs/heads/main/data/gini-index.csv). Lo llamaremos `df_gini`.\n",
    "\n",
    "Este dataset contiene información histórica del Índice de Gini (economía), el cual captura la desigualdad económica entre los quintiles de cada país. A mayor índice Gini, más desigual es un país en términos de ingresos. Para mayor información sobre los datos, puede dirigirse al [Repositorio](https://github.com/datasets/gini-index) completo. Para conocer más sobre el índice, una navegación por [Wikipedia](https://en.wikipedia.org/wiki/Gini_coefficient) debería ser suficiente."
   ]
  },
  {
   "cell_type": "markdown",
   "metadata": {
    "id": "FaDaLRg5tP9O"
   },
   "source": [
    "### Pregunta 2.0\n",
    "\n",
    "Cargue la base datos, asegúrese de que la variable de año esté en un formato de \"fecha\", y usando el diccionario de mapeo por inconsistencias de nombres, `country_name_mapping`, encuentre la forma de realizar un INNER JOIN entre ambas tablas, usando el nombre del país y el año de la observación como variables por las cuales hacer el JOIN. En el diccionario `country_name_mapping`, _keys_ corresponden a los valores de la tabla `df_gini` y _values_ a los de `df`.\n",
    "\n",
    "Llame al dataframe resultante `df_merged`.\n",
    "\n",
    "Si usted no se ha percatado, los nombres en la columna `Country` de `df` poseen espacios al final de estos. Elimine los espacios antes de realizar el INNER JOIN de interés (Hint: existe una función propia de las variables tipo `string` que realiza la labor de eliminar espacios al final de la palabra).\n",
    "\n"
   ]
  },
  {
   "cell_type": "code",
   "execution_count": null,
   "metadata": {
    "id": "pNKh8tNnOzmR"
   },
   "outputs": [],
   "source": [
    "# NO MODIFICAR, pero sí ejecutar\n",
    "country_name_mapping = {\n",
    "    \"Bahamas\": \"Bahamas, The\",\n",
    "    \"Bosnia and Herzegovina\": \"Bosnia & Herzegovina\",\n",
    "    \"Myanmar\": \"Burma\",\n",
    "    \"Cape Verde\": \"Cabo Verde\",\n",
    "    \"Central African Republic\": \"Central African Rep.\",\n",
    "    \"Congo, Rep.\": \"Congo, Repub. of the\",\n",
    "    \"Czechia\": \"Czech Republic\",\n",
    "    \"Timor-Leste\": \"East Timor\",\n",
    "    \"Egypt, Arab Rep.\": \"Egypt\",\n",
    "    \"West Bank and Gaza\": \"Gaza Strip\",\n",
    "    \"Iran, Islamic Rep.\": \"Iran\",\n",
    "    \"Korea, Dem. People's Rep.\": \"Korea, North\",\n",
    "    \"Korea, Rep.\": \"Korea, South\",\n",
    "    \"Kyrgyz Republic\": \"Kyrgyzstan\",\n",
    "    \"Lao PDR\": \"Laos\",\n",
    "    \"North Macedonia\": \"Macedonia\",\n",
    "    \"Micronesia, Fed. Sts.\": \"Micronesia, Fed. St.\",\n",
    "    \"Russian Federation\": \"Russia\",\n",
    "    \"St. Kitts and Nevis\": \"Saint Kitts & Nevis\",\n",
    "    \"St. Lucia\": \"Saint Lucia\",\n",
    "    \"St. Vincent and the Grenadines\": \"Saint Vincent and the Grenadines\",\n",
    "    \"Slovak Republic\": \"Slovakia\",\n",
    "    \"Eswatini\": \"Swaziland\",\n",
    "    \"Syrian Arab Republic\": \"Syria\",\n",
    "    \"Trinidad and Tobago\": \"Trinidad & Tobago\",\n",
    "    \"Turkiye\": \"Turkey\",\n",
    "    \"Venezuela, RB\": \"Venezuela\",\n",
    "    \"Viet Nam\": \"Vietnam\",\n",
    "    \"Yemen, Rep.\": \"Yemen\"\n",
    "}\n",
    "\n"
   ]
  },
  {
   "cell_type": "code",
   "execution_count": null,
   "metadata": {
    "id": "93Keigc5tXgo"
   },
   "outputs": [],
   "source": []
  },
  {
   "cell_type": "code",
   "execution_count": null,
   "metadata": {
    "id": "XE_ukAyQtd5p"
   },
   "outputs": [],
   "source": []
  },
  {
   "cell_type": "code",
   "execution_count": null,
   "metadata": {
    "id": "fkgJ2-0At4VB"
   },
   "outputs": [],
   "source": []
  },
  {
   "cell_type": "markdown",
   "metadata": {
    "id": "0WoAL_a8009A"
   },
   "source": [
    "### Pregunta 2.1\n",
    "\n",
    "Repita el ejercicio de la obtención de un ranking para las correlaciones absolutas, tal como lo hizo para el GDP per cápita. ¿Cuáles son las relaciones que más le sorprenden? ¿Cuáles son las que están en línea con lo que esperaba? Justifique para ambos casos.\n",
    "\n",
    "\n",
    "\n"
   ]
  },
  {
   "cell_type": "code",
   "execution_count": null,
   "metadata": {
    "id": "ujcMlzfK01nG"
   },
   "outputs": [],
   "source": []
  },
  {
   "cell_type": "markdown",
   "metadata": {
    "id": "b9FvXo8c08Jo"
   },
   "source": [
    "\n",
    "\n",
    "---\n",
    "\n",
    "\n",
    "*Escriba* su respuesta y justificación en esta celda...\n",
    "\n",
    "---\n",
    "\n",
    "\n",
    "\n"
   ]
  },
  {
   "cell_type": "markdown",
   "metadata": {
    "id": "YaK-F5dv27TY"
   },
   "source": [
    "Finalmente, agregaremos una tercera base de datos al análisis, también disponible en [Github](https://raw.githubusercontent.com/datasets/co2-fossil-by-nation/refs/heads/main/data/fossil-fuel-co2-emissions-by-nation.csv) con su repectivo\n",
    "[Repositorio](https://github.com/datasets/co2-fossil-by-nation). Esta contiene emisiones de dióxido de carbono (CO2) total y por fuentes, desagregado por país. La base de datos contiene datos desde el siglo XVI y la frecuencia es anual.\n",
    "\n"
   ]
  },
  {
   "cell_type": "markdown",
   "metadata": {
    "id": "AKaCieYjT0Ta"
   },
   "source": [
    "### Pregunta 2.2\n",
    "\n",
    "Cargue la base de datos llamándola `df_co2`. Asegúrese de que todas las variables estén en su correcto formato (años deben estar en un formato de fecha). ¿Qué cuidados identifica usted que debiésemos tener al momento de observar valores nulos en esta base de datos?\n",
    "\n",
    "Adicionalmente, para cada palabra en la columna `Country`, asegúrese de que la primera letra siempre sea mayúscula y que el resto de letras sean minúsculas (Hint: revise `methods` propios de las variables tipo `string`).\n",
    "\n",
    "Luego, reemplace valores en `df_co2[\"Country\"]` según el mapping otorgado. En el diccionario `country_name_mapping_co2`, _keys_ corresponden a los valores de la tabla `df_co2` y _values_ a los de `df`.\n",
    "\n",
    "\n"
   ]
  },
  {
   "cell_type": "code",
   "execution_count": null,
   "metadata": {
    "id": "NtcEqVc03dZD"
   },
   "outputs": [],
   "source": [
    "# NO MODIFICAR, pero sí ejecutar\n",
    "country_name_mapping_co2 = {\n",
    "    \"United States Of America\": \"United States\",\n",
    "    \"France (Including Monaco)\": \"France\",\n",
    "    \"Italy (Including San Marino)\": \"Italy\",\n",
    "    \"Plurinational State Of Bolivia\": \"Bolivia\",\n",
    "    \"Federal Republic Of Germany\": \"Germany\",\n",
    "    \"Former German Democratic Republic\": \"Germany\",\n",
    "    \"Republic Of Moldova\": \"Moldova\",\n",
    "    \"United Republic Of Tanzania\": \"Tanzania\",\n",
    "    \"Japan (Excluding The Ruyuku Islands)\": \"Japan\",\n",
    "    \"Hong Kong Special Adminstrative Region Of China\": \"Hong Kong\",\n",
    "    \"Peninsular Malaysia\": \"Malaysia\",\n",
    "    \"Democratic Republic Of The Congo (Formerly Zaire)\": \"Congo, Dem. Rep.\",\n",
    "    \"Brunei (Darussalam)\": \"Brunei\",\n",
    "    \"Myanmar (Formerly Burma)\": \"Burma\",\n",
    "    \"Syrian Arab Republic\": \"Syria\",\n",
    "    \"Islamic Republic Of Iran\": \"Iran\",\n",
    "    \"Republic Of Korea\": \"Korea, South\",\n",
    "    \"Democratic People S Republic Of Korea\": \"Korea, North\",\n",
    "    \"Russian Federation\": \"Russia\",\n",
    "    \"Viet Nam\": \"Vietnam\",\n",
    "    \"Yemen\": \"Yemen, Rep.\",\n",
    "    \"Trinidad And Tobago\": \"Trinidad & Tobago\",\n",
    "    \"Bahamas\": \"Bahamas, The\",\n",
    "    \"Micronesia\": \"Micronesia, Fed. St.\",\n",
    "    \"Slovakia\": \"Slovakia\",\n",
    "    \"St. Vincent & The Grenadines\": \"Saint Vincent and the Grenadines\",\n",
    "    \"Saint Lucia\": \"Saint Lucia\",\n",
    "    \"Antigua & Barbuda\": \"Antigua & Barbuda\",\n",
    "    \"Saint Kitts-Nevis-Anguilla\": \"Saint Kitts & Nevis\",\n",
    "    \"Netherland Antilles And Aruba\": \"Netherlands Antilles\",\n",
    "    \"Timor-Leste (Formerly East Timor)\": \"East Timor\",\n",
    "    \"Macau Special Adminstrative Region Of China\": \"Macau\",\n",
    "    \"Republic Of Cameroon\": \"Cameroon\",\n",
    "    \"Republic Of Sudan\": \"Sudan\",\n",
    "    \"Lao People S Democratic Republic\": \"Laos\",\n",
    "    \"Libyan Arab Jamahiriyah\": \"Libya\",\n",
    "    \"Cote D Ivoire\": \"Cote d'Ivoire\",\n",
    "    \"British Virgin Islands\": \"British Virgin Is.\",\n",
    "    \"Faeroe Islands\": \"Faroe Islands\",\n",
    "    \"China (Mainland)\": \"China\",\n",
    "}\n"
   ]
  },
  {
   "cell_type": "code",
   "execution_count": null,
   "metadata": {
    "id": "Ltp-kxYf3gZW"
   },
   "outputs": [],
   "source": []
  },
  {
   "cell_type": "markdown",
   "metadata": {
    "id": "LspdjyOa3xUS"
   },
   "source": [
    "\n",
    "\n",
    "---\n",
    "\n",
    "\n",
    "*Escriba* su respuesta y justificación en esta celda...\n",
    "\n",
    "---\n",
    "\n"
   ]
  },
  {
   "cell_type": "markdown",
   "metadata": {
    "id": "IyAErL5-3oa1"
   },
   "source": [
    "### Pregunta 2.3\n",
    "\n",
    "En un mismo gráfico, grafique las series de emisiones totales de CO2 para los siguientes países:\n",
    "\n",
    "- Reino Unido\n",
    "- Canadá\n",
    "- Alemania\n",
    "- Francia\n",
    "- Estados Unidos\n",
    "- Brasil\n",
    "- China\n",
    "- Japón\n",
    "- India\n",
    "\n",
    "\n",
    "Para cada serie, añada una leyenda con el nombre del país.\n"
   ]
  },
  {
   "cell_type": "code",
   "execution_count": null,
   "metadata": {
    "id": "PRaf9G5s3yoT"
   },
   "outputs": [],
   "source": []
  },
  {
   "cell_type": "markdown",
   "metadata": {
    "id": "qEXra8QY37Nq"
   },
   "source": [
    "### Pregunta 2.4\n",
    "\n",
    "Para el año 2007, por cada país realice un ranking de las fuentes con más emisiones de CO2 excluyendo las variables `Per Capita` y `Bunker fuels (Not in Total)`. Es decir, asigne un número de 1 a 5 a $\\{$ `Solid Fuel`, `Liquid Fuel`, `Gas Fuel`, `Cement`, `Gas Flaring` $\\}$, donde 1 es la mayor fuente de emisión de ese país en aquel año, y 5 indica que fue la menor; así para todos los países.\n",
    "\n",
    "Si en 2007 no se reporta una fuente de emisión para un país, por ejemplo, si emisiones de `Gas Flaring` no se reportara, entonces asigne números de 1 a 4 a las fuentes restantes. Análogo para un menor número de datos.\n",
    "\n",
    "Luego, por cada variable grafique un histograma de frecuencias del ranking que obtuvo la fuente emisión a lo largo de todos los países.\n",
    "\n",
    "¿Cuál fue la fuente más contaminante en la mayoría de países en 2007?\n"
   ]
  },
  {
   "cell_type": "code",
   "execution_count": null,
   "metadata": {
    "id": "tYYgYEQj4Plf"
   },
   "outputs": [],
   "source": []
  },
  {
   "cell_type": "code",
   "execution_count": null,
   "metadata": {
    "id": "ASN5b-v-4TIC"
   },
   "outputs": [],
   "source": []
  },
  {
   "cell_type": "markdown",
   "metadata": {
    "id": "IoZ-1SLf4Ydp"
   },
   "source": [
    "\n",
    "\n",
    "---\n",
    "\n",
    "\n",
    "*Escriba* su respuesta y justificación en esta celda...\n",
    "\n",
    "---\n",
    "\n",
    "\n",
    "\n"
   ]
  },
  {
   "cell_type": "markdown",
   "metadata": {
    "id": "WbbdLxYw4vG_"
   },
   "source": [
    "### Pregunta 2.5\n",
    "\n",
    "Para cada serie de total de emisiones por país, calcule el cambio porcentual a través del tiempo. Realice imputación de missings si considera necesario, justificando su imputación. Si no lo considera necesario, también justifique (se evaluará un buen criterio fundamentado).\n",
    "\n",
    "Repita el ejercicio del gráfico de series de tiempo anterior, pero graficando los **cambios porcentuales** para años mayores o iguales a 1995. ¿Cómo interpretaría económicamente el shock sobre las emisiones de CO2 tanto en la crisis subprime como en la crisis del Covid-19?\n"
   ]
  },
  {
   "cell_type": "code",
   "execution_count": null,
   "metadata": {
    "id": "Rww8aBNt4x4S"
   },
   "outputs": [],
   "source": []
  },
  {
   "cell_type": "code",
   "execution_count": null,
   "metadata": {
    "id": "x2hbphpP40hr"
   },
   "outputs": [],
   "source": []
  },
  {
   "cell_type": "markdown",
   "metadata": {
    "id": "CQSZZhGa47ys"
   },
   "source": [
    "\n",
    "---\n",
    "\n",
    "\n",
    "*Escriba* su justificación e interpretación en esta celda...\n",
    "\n",
    "\n",
    "\n",
    "---\n",
    "\n",
    "\n",
    "\n"
   ]
  },
  {
   "cell_type": "markdown",
   "metadata": {
    "id": "AYIpqp3J5ei1"
   },
   "source": [
    "### Pregunta 2.6\n",
    "\n",
    "Calcule el promedio a lo largo de toda la muestra ($\\mathbb{E}[\\cdot]$) para el cambio porcentual de cada país y genere una nueva serie con la resta entre el cambio porcentual del país $i$ en el año $t$, y el promedio del cambio porcentual del país $i$. En otras palabras, genere una serie con _**desvíos del cambio porcentual promedio**_ $\\forall i,t$:\n",
    "\n",
    "$$Nueva Serie_i = \\Delta \\% TotalCO2_{i,t} - \\mathbb{E}[{\\Delta \\% TotalCO2_{i,t}}]$$\n",
    "\n",
    "Luego, para los siguientes países:\n",
    "\n",
    "- Reino Unido\n",
    "- Canadá\n",
    "- Alemania\n",
    "- Francia\n",
    "- Estados Unidos\n",
    "- Japón\n",
    "- Italia\n",
    "- España\n",
    "\n",
    "\n",
    "grafique en un panel _1x2_ la desviación del cambio porcentual respecto al promedio entre 2007 y 2010 en lado izquierdo, y entre 2017 y 2020 en el lado derecho (Hint: Hay comandos que facilitan esta labor. Puede intentar con `fig, axes = plt.subplots(1, 2, figsize=(18, 6), sharey=True)`, por ejemplo).\n",
    "\n",
    "¿Existe algún país en particular que mostró mayores desviaciones atípicas de emisión de CO2 durante el periodo de la crisis sub-prime? ¿Cómo es el comportamiento de las desviaciones atípicas de CO2 de este país durante la crisis del Covid-19?\n"
   ]
  },
  {
   "cell_type": "code",
   "execution_count": null,
   "metadata": {
    "id": "aDwOdgZy5duv"
   },
   "outputs": [],
   "source": []
  },
  {
   "cell_type": "markdown",
   "metadata": {
    "id": "jqxlaxLi5m6C"
   },
   "source": [
    "---\n",
    "\n",
    "\n",
    "*Escriba* su respuesta en esta celda...\n",
    "\n",
    "\n",
    "\n",
    "---\n",
    "\n",
    "\n",
    "\n"
   ]
  },
  {
   "cell_type": "markdown",
   "metadata": {
    "id": "GK0bdPCgUYTu"
   },
   "source": [
    "### Pregunta 2.7\n",
    "\n",
    "Genere un nuevo dataframe llamado `df_final`. Para esto, realice un INNER JOIN entre el dataframe `df_co2` y `df_merged` por \"año y país\" (debería terminar sólo con valores de 2007 si usted realiza un INNER JOIN).\n",
    "\n",
    "Finalmente, grafique un mapa de calor de correlaciones (_heatmapt_) entre las variables numéricas ,excluyendo fechas.\n",
    "\n",
    "¿Qué variables económicas, demográficas y de desarrollo humano muestran relación más importante con las emisiones de CO2? Interprete estas relaciones.\n"
   ]
  },
  {
   "cell_type": "code",
   "execution_count": null,
   "metadata": {
    "id": "hauNz8pRUbwi"
   },
   "outputs": [],
   "source": []
  },
  {
   "cell_type": "markdown",
   "metadata": {
    "id": "qIeJaVhhUetU"
   },
   "source": [
    "---\n",
    "\n",
    "\n",
    "*Escriba* su respuesta e interpretación en esta celda...\n",
    "\n",
    "\n",
    "\n",
    "---\n"
   ]
  }
 ],
 "metadata": {
  "colab": {
   "provenance": [
    {
     "file_id": "1dHGc3laG2-3AB8scRVRG5bLjbgbfBc_Q",
     "timestamp": 1679568757195
    },
    {
     "file_id": "1ENKEY-hh9W6c30VZMhZjBRap8tTaJvMP",
     "timestamp": 1650898910754
    }
   ]
  },
  "kernelspec": {
   "display_name": "Python 3 (ipykernel)",
   "language": "python",
   "name": "python3"
  },
  "language_info": {
   "codemirror_mode": {
    "name": "ipython",
    "version": 3
   },
   "file_extension": ".py",
   "mimetype": "text/x-python",
   "name": "python",
   "nbconvert_exporter": "python",
   "pygments_lexer": "ipython3",
   "version": "3.11.4"
  }
 },
 "nbformat": 4,
 "nbformat_minor": 1
}
